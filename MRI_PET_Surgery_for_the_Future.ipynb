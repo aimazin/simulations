{
  "cells": [
    {
      "cell_type": "markdown",
      "metadata": {
        "id": "view-in-github",
        "colab_type": "text"
      },
      "source": [
        "<a href=\"https://colab.research.google.com/github/aimazin/simulations/blob/main/MRI_PET_Surgery_for_the_Future.ipynb\" target=\"_parent\"><img src=\"https://colab.research.google.com/assets/colab-badge.svg\" alt=\"Open In Colab\"/></a>"
      ]
    },
    {
      "cell_type": "markdown",
      "source": [
        "We try to simulate a futuristic surgery that uses a MRI and PET tech. Equations solve with sympy Python package. "
      ],
      "metadata": {
        "id": "pQuShz18YOlS"
      },
      "id": "pQuShz18YOlS"
    },
    {
      "cell_type": "code",
      "source": [
        "# %% Symbolic library and its initialization\n",
        "import sympy as sy\n",
        "sy.init_printing()\n",
        "from sympy.plotting import plot\n",
        "import numpy as np\n",
        "import matplotlib.pyplot as plt\n",
        "\n",
        "# %% Some common variables\n",
        "x = sy.symbols('x')\n",
        "\n",
        "y = sy.Function('y')(x)\n",
        "y1 = y.diff(x)\n",
        "y2 = y.diff(x, x)"
      ],
      "metadata": {
        "id": "hXkH-JlIYPNm"
      },
      "id": "hXkH-JlIYPNm",
      "execution_count": null,
      "outputs": []
    },
    {
      "cell_type": "code",
      "execution_count": null,
      "id": "0adaab2b",
      "metadata": {
        "colab": {
          "base_uri": "https://localhost:8080/"
        },
        "id": "0adaab2b",
        "outputId": "c61d53c2-d302-430d-efd3-cf6794c49b9a"
      },
      "outputs": [
        {
          "output_type": "stream",
          "name": "stdout",
          "text": [
            "⎡               ___________                ___________               _________\n",
            "⎢              ╱    -C₁                   ╱    -C₁                  ╱    -C₁  \n",
            "⎢y(x) = -ⅈ⋅   ╱  ───────── , y(x) = ⅈ⋅   ╱  ───────── , y(x) = -   ╱  ────────\n",
            "⎢          8 ╱         8⋅x            8 ╱         8⋅x           8 ╱         8⋅\n",
            "⎣          ╲╱    C₁ - ℯ               ╲╱    C₁ - ℯ              ╲╱    C₁ - ℯ  \n",
            "\n",
            "__              ___________                   ___________                     \n",
            "               ╱    -C₁                      ╱    -C₁     ⎛1   ⅈ⎞             \n",
            "─ , y(x) =    ╱  ───────── , y(x) = √2⋅ⅈ⋅   ╱  ───────── ⋅⎜─ + ─⎟, y(x) = -√2⋅\n",
            "x          8 ╱         8⋅x               8 ╱         8⋅x  ⎝2   2⎠             \n",
            "           ╲╱    C₁ - ℯ                  ╲╱    C₁ - ℯ                         \n",
            "\n",
            "       ___________                         ___________                        \n",
            "      ╱    -C₁     ⎛1   ⅈ⎞                ╱    -C₁     ⎛  1   ⅈ⎞              \n",
            "ⅈ⋅   ╱  ───────── ⋅⎜─ + ─⎟, y(x) = √2⋅   ╱  ───────── ⋅⎜- ─ - ─⎟, y(x) = √2⋅  \n",
            "  8 ╱         8⋅x  ⎝2   2⎠            8 ╱         8⋅x  ⎝  2   2⎠            8 \n",
            "  ╲╱    C₁ - ℯ                        ╲╱    C₁ - ℯ                          ╲╱\n",
            "\n",
            "   ___________        ⎤\n",
            "  ╱    -C₁     ⎛1   ⅈ⎞⎥\n",
            " ╱  ───────── ⋅⎜─ + ─⎟⎥\n",
            "╱         8⋅x  ⎝2   2⎠⎥\n",
            "    C₁ - ℯ            ⎦\n",
            "\\left[ y{\\left(x \\right)} = - i \\sqrt[8]{- \\frac{C_{1}}{C_{1} - e^{8 x}}}, \\  y{\\left(x \\right)} = i \\sqrt[8]{- \\frac{C_{1}}{C_{1} - e^{8 x}}}, \\  y{\\left(x \\right)} = - \\sqrt[8]{- \\frac{C_{1}}{C_{1} - e^{8 x}}}, \\  y{\\left(x \\right)} = \\sqrt[8]{- \\frac{C_{1}}{C_{1} - e^{8 x}}}, \\  y{\\left(x \\right)} = \\sqrt{2} i \\sqrt[8]{- \\frac{C_{1}}{C_{1} - e^{8 x}}} \\left(\\frac{1}{2} + \\frac{i}{2}\\right), \\  y{\\left(x \\right)} = - \\sqrt{2} i \\sqrt[8]{- \\frac{C_{1}}{C_{1} - e^{8 x}}} \\left(\\frac{1}{2} + \\frac{i}{2}\\right), \\  y{\\left(x \\right)} = \\sqrt{2} \\sqrt[8]{- \\frac{C_{1}}{C_{1} - e^{8 x}}} \\left(- \\frac{1}{2} - \\frac{i}{2}\\right), \\  y{\\left(x \\right)} = \\sqrt{2} \\sqrt[8]{- \\frac{C_{1}}{C_{1} - e^{8 x}}} \\left(\\frac{1}{2} + \\frac{i}{2}\\right)\\right]\n"
          ]
        }
      ],
      "source": [
        "# %% General solution\n",
        "\n",
        "# Definition\n",
        "eqdiff = y1 + y + y**9\n",
        "\n",
        "# Solution\n",
        "sol = sy.dsolve(eqdiff, y)\n",
        "\n",
        "# Print\n",
        "sy.pprint(sol)\n",
        "\n",
        "# Print latex representation\n",
        "print(sy.latex(sol))"
      ]
    },
    {
      "cell_type": "markdown",
      "source": [],
      "metadata": {
        "id": "eDFAuYqdYLDK"
      },
      "id": "eDFAuYqdYLDK"
    },
    {
      "cell_type": "code",
      "execution_count": null,
      "id": "1a1b786d",
      "metadata": {
        "colab": {
          "base_uri": "https://localhost:8080/"
        },
        "id": "1a1b786d",
        "outputId": "b06fbf20-1b75-415b-d5a1-798e13aa2e1a"
      },
      "outputs": [
        {
          "output_type": "stream",
          "name": "stdout",
          "text": [
            "                  2        \n",
            "                -x         \n",
            "                ────       \n",
            "                 2         \n",
            "             2⋅ℯ           \n",
            "y(x) = ────────────────────\n",
            "                     ⎛√2⋅x⎞\n",
            "       C₁ - √2⋅√π⋅erf⎜────⎟\n",
            "                     ⎝ 2  ⎠\n",
            "y{\\left(x \\right)} = \\frac{2 e^{- \\frac{x^{2}}{2}}}{C_{1} - \\sqrt{2} \\sqrt{\\pi} \\operatorname{erf}{\\left(\\frac{\\sqrt{2} x}{2} \\right)}}\n"
          ]
        }
      ],
      "source": [
        "# %% General solution\n",
        "\n",
        "# Definition\n",
        "eqdiff = y1 + x*y - y**2 \n",
        "\n",
        "# Solution\n",
        "sol = sy.dsolve(eqdiff, y)\n",
        "\n",
        "# Print\n",
        "sy.pprint(sol)\n",
        "\n",
        "# Print latex representation\n",
        "print(sy.latex(sol))"
      ]
    },
    {
      "cell_type": "markdown",
      "source": [
        "The choice of this Bernoulli equ. was inorder to emulate the proton and other nuclei which can be seen as convolutions of protons. The solution was simplified as y ~ 2/(1 + sin(J(J + sqrt(2)))(1 + sqrt(2*pi^(-1)) for signature ranged evolution of signal."
      ],
      "metadata": {
        "id": "M8fYCkiMO66R"
      },
      "id": "M8fYCkiMO66R"
    },
    {
      "cell_type": "code",
      "execution_count": null,
      "id": "c49f7db0",
      "metadata": {
        "colab": {
          "base_uri": "https://localhost:8080/",
          "height": 265
        },
        "id": "c49f7db0",
        "outputId": "b4b008d1-e894-451a-e34b-678cfb450bc9"
      },
      "outputs": [
        {
          "output_type": "display_data",
          "data": {
            "text/plain": [
              "<Figure size 432x288 with 1 Axes>"
            ],
            "image/png": "[encoded data removed]"
          },
          "metadata": {
            "needs_background": "light"
          }
        }
      ],
      "source": [
        "x = np.array([i/16*np.sqrt(np.pi*2) for i in range(1,101)])\n",
        "s = np.array([(2/(1+(1 + np.sqrt(2/np.pi))*np.sin(((J**2 + np.sqrt(2)*J)/2)))) for J in x])\n",
        "plt.plot(x,s)\n",
        "plt.show()"
      ]
    },
    {
      "cell_type": "markdown",
      "source": [
        "result is squared to obtain cleaner signals"
      ],
      "metadata": {
        "id": "16F1mHwUO1Ic"
      },
      "id": "16F1mHwUO1Ic"
    },
    {
      "cell_type": "code",
      "source": [
        "plt.plot(x,s**2)\n",
        "plt.show()"
      ],
      "metadata": {
        "colab": {
          "base_uri": "https://localhost:8080/",
          "height": 266
        },
        "id": "GvC9YwwVOj9m",
        "outputId": "dc179606-3c78-4d51-d2bc-29126f2198c0"
      },
      "id": "GvC9YwwVOj9m",
      "execution_count": null,
      "outputs": [
        {
          "output_type": "display_data",
          "data": {
            "text/plain": [
              "<Figure size 432x288 with 1 Axes>"
            ],
            "image/png": "[encoded data removed]"
          },
          "metadata": {
            "needs_background": "light"
          }
        }
      ]
    },
    {
      "cell_type": "markdown",
      "source": [
        "The shift at about 8 ppm is intended to be like a UV spectra and signals hyperconjugation of arylic moieties. In medical textbooks interferons like INF8, are drawn like arylics conjugating with a lectin shaped as a carboxylation handle. Mean that such interactions are conjugative like UV spect. They ultimately trigger integrin separation and hence onwards to the next cellular compartment for phagocytes. It is also handy that we use the Bernoulli ODE as simulates cylindrical extremeties like capillaries well.  "
      ],
      "metadata": {
        "id": "s11EuxkTJ2fr"
      },
      "id": "s11EuxkTJ2fr"
    },
    {
      "cell_type": "markdown",
      "source": [
        "So this equ. in a sense cuts membranes of the body, this all due to invasive xeno molecules etc. Let for interest sake use the presence of NADH as signal for need of energy for immunity, and hence where the xeno molecules are. The electron carrier is merely the forerunner to the casade which illicites the mobilisation of INFs."
      ],
      "metadata": {
        "id": "4oxUhAFwbf9a"
      },
      "id": "4oxUhAFwbf9a"
    },
    {
      "cell_type": "markdown",
      "source": [
        "The shift to the periphory of the capillary envolves a fractal and a scale: cos(J(J + sqrt(2))) and (1 + sqrt(2*pi^(-1)). Briefly explained as \"the cause in relocation of a scale\" and \"a union encluding criticals of route of area, so thecracks in a object or fractal\". "
      ],
      "metadata": {
        "id": "KK0r7LxT8jUr"
      },
      "id": "KK0r7LxT8jUr"
    },
    {
      "cell_type": "markdown",
      "source": [
        "J + sqrt(2) **-> J**2 + 3 - 1 **-> J <= pi **-> cos(11.14) which is the flux of Na or D(Na). So Na **-> DH + O **-> NADH **-> O(VI) + 2e(I) which is where we started off with the signal **note that what is over the arrows is the environment from capillary to cellular compartment. The oxidative stress caused by xeno molecules, here can be expundged by a positron boson (2e(I)) and or is created environment."
      ],
      "metadata": {
        "id": "UinBf2UxGDIS"
      },
      "id": "UinBf2UxGDIS"
    },
    {
      "cell_type": "markdown",
      "source": [
        "So one use MRI as contrast of paramagnetic water suppression to target oxidative stress and expundged by PE of PET tech modified as a Massspectrometer."
      ],
      "metadata": {
        "id": "CsQSzHGrTGwX"
      },
      "id": "CsQSzHGrTGwX"
    },
    {
      "cell_type": "code",
      "execution_count": null,
      "id": "4dfda60e",
      "metadata": {
        "id": "4dfda60e",
        "outputId": "5dbec7a8-1e5a-4c4c-a258-db845c3fb1b3"
      },
      "outputs": [
        {
          "data": {
            "image/png": "[encoded data removed]",
            "text/plain": [
              "<Figure size 432x288 with 1 Axes>"
            ]
          },
          "metadata": {
            "needs_background": "light"
          },
          "output_type": "display_data"
        }
      ],
      "source": [
        "# %% Plot\n",
        "title = sy.latex(sol.rhs)\n",
        "xtol = 1e-3\n",
        "p1 = plot(sol.rhs, (x,sy.pi/4,2*sy.pi), line_color='C0', show=False, \n",
        "          xlim=[sy.pi/4,2*sy.pi], ylim=[-30,10], title=f\"${title}$\", legend=True, xlabel=\"\", ylabel=\"\")\n",
        "p1[0].label = '$y$'\n",
        "p2 = plot(sy.diff(sol.rhs,x), (x,sy.pi/4,2*sy.pi), line_color='C1', show=False, \n",
        "         xlim=[sy.pi/4,2*sy.pi], ylim=[-30,10])\n",
        "p2[0].label = \"$y\\,'$\"\n",
        "p1.extend(p2)\n",
        "p1.show()"
      ]
    },
    {
      "cell_type": "markdown",
      "source": [
        "This is the kind of solution one can expect because 1/sin^2(x) ~ D^2(tan^2(x)) The solution as you can see has compartments and it comes from or is derived from enclosed compartments y'. And caan be y can be seen as reverting towards y' over time."
      ],
      "metadata": {
        "id": "spXMMcoNWGBF"
      },
      "id": "spXMMcoNWGBF"
    }
  ],
  "metadata": {
    "kernelspec": {
      "display_name": "Python 3 (ipykernel)",
      "language": "python",
      "name": "python3"
    },
    "language_info": {
      "codemirror_mode": {
        "name": "ipython",
        "version": 3
      },
      "file_extension": ".py",
      "mimetype": "text/x-python",
      "name": "python",
      "nbconvert_exporter": "python",
      "pygments_lexer": "ipython3",
      "version": "3.8.13"
    },
    "colab": {
      "provenance": [],
      "include_colab_link": true
    }
  },
  "nbformat": 4,
  "nbformat_minor": 5
}